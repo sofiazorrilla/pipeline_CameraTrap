{
 "cells": [
  {
   "cell_type": "markdown",
   "id": "56809569-172d-4af3-b410-08dc15ba99fb",
   "metadata": {},
   "source": [
    "# Training of classification model\n",
    "\n",
    "El repositorio de CameraTraps tiene un [tutorial](https://github.com/microsoft/CameraTraps/blob/main/PW_FT_classification/README.md) para hacer el finetunning de los modelos para un grupo de imagenes de una región en particular.\n",
    "\n",
    "Los archivos para crear el ambiente se encuentran en `/bin/finetunning_files/PW_FT_classification`\n",
    "\n",
    "```\n",
    "pip install -r requirements.txt\n",
    "conda env create -f environment.yaml\n",
    "conda activate PT_Finetuning\n",
    "```\n",
    "\n",
    "La carpeta de imagenes debe estar configurada de la siguiente manera:\n",
    "```\n",
    "PT_FT_classification/\n",
    "│\n",
    "├── data/\n",
    "│   ├── imgs/            # All images stored here\n",
    "│   └── annotation_example.csv # Annotations file\n",
    "│\n",
    "└── configs/config.yaml            # Configuration file\n",
    "```\n",
    "\n"
   ]
  }
 ],
 "metadata": {
  "kernelspec": {
   "display_name": "Python pytorch_wildlife",
   "language": "python",
   "name": "pytorch_wildlife"
  },
  "language_info": {
   "codemirror_mode": {
    "name": "ipython",
    "version": 3
   },
   "file_extension": ".py",
   "mimetype": "text/x-python",
   "name": "python",
   "nbconvert_exporter": "python",
   "pygments_lexer": "ipython3",
   "version": "3.8.20"
  }
 },
 "nbformat": 4,
 "nbformat_minor": 5
}
