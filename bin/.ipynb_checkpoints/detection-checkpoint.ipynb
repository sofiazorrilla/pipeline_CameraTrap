{
 "cells": [
  {
   "cell_type": "markdown",
   "id": "8da3f277-9773-4af9-8c25-2860eb5062e1",
   "metadata": {},
   "source": [
    "# Detect animals, persons or vehicles in Camera Trap images\n",
    "\n",
    "Tools: Pytorch-Wildlife\n",
    "\n",
    "## Installation instructions:\n",
    "1. Create conda environment `conda create -n pytorch_wildlife python=3.8 -y` `conda activate pytorch_wildlife`\n",
    "2. Install using `pip install PytorchWildlife`\n",
    "\n",
    "## Detection model: MegaDetector V6\n",
    "MegaDetector repository: https://github.com/agentmorris/MegaDetector/tree/main\n",
    "MegaDetector package: https://pypi.org/project/megadetector/"
   ]
  },
  {
   "cell_type": "code",
   "execution_count": null,
   "id": "44e98fc0-1ec8-4e03-8a74-b255ac43a405",
   "metadata": {},
   "outputs": [],
   "source": [
    "# conda create -n pytorch_wildlife python=3.8 -y\n",
    "# conda activate pytorch_wildlife\n",
    "# pip install PytorchWildlife\n",
    "# python3 -m ipykernel install --user --name pytorch_wildlife --display-name \"Python pytorch_wildlife\"\n",
    "# Use the pytorch_wildlife environment kernel"
   ]
  },
  {
   "cell_type": "code",
   "execution_count": 1,
   "id": "9e6c5c43-cfe4-4282-bd79-3abed4ebad87",
   "metadata": {},
   "outputs": [],
   "source": [
    "# Image Detector PyTorchWildlife\n",
    "\n",
    "# --- Import packages ---\n",
    "\n",
    "import numpy as np\n",
    "import os\n",
    "from PIL import Image\n",
    "import torch\n",
    "from torch.utils.data import DataLoader\n",
    "from PytorchWildlife.models import detection as pw_detection\n",
    "from PytorchWildlife.data import transforms as pw_trans\n",
    "from PytorchWildlife.data import datasets as pw_data\n",
    "from PytorchWildlife import utils as pw_utils"
   ]
  },
  {
   "cell_type": "code",
   "execution_count": 2,
   "id": "dea15127-bcf7-4ed8-a046-494b9ba1c07a",
   "metadata": {},
   "outputs": [
    {
     "name": "stdout",
     "output_type": "stream",
     "text": [
      "Ultralytics 8.3.48 🚀 Python-3.8.20 torch-2.4.1+cu121 CPU (Intel Xeon E5-2697 v4 2.30GHz)\n",
      "YOLOv9c summary (fused): 384 layers, 25,321,561 parameters, 0 gradients, 102.3 GFLOPs\n"
     ]
    }
   ],
   "source": [
    "# --- Model initialization ---\n",
    "\n",
    "DEVICE = \"cpu\"  # Use \"cuda\" if GPU is available \"cpu\" if no GPU is available\n",
    "detection_model = pw_detection.MegaDetectorV6(device=DEVICE, pretrained=True, version=\"yolov9c\")"
   ]
  },
  {
   "cell_type": "code",
   "execution_count": 4,
   "id": "4d34c8b9-5823-4e84-a32f-18c0709eebc2",
   "metadata": {},
   "outputs": [
    {
     "name": "stdout",
     "output_type": "stream",
     "text": [
      "./data/test_output\n"
     ]
    }
   ],
   "source": [
    "print(os.path.join(\".\",\"data\",\"test_output\"))"
   ]
  },
  {
   "cell_type": "code",
   "execution_count": 6,
   "id": "e2493c70-0a6f-4e7e-a5e1-5ffc7dfff026",
   "metadata": {},
   "outputs": [
    {
     "name": "stdout",
     "output_type": "stream",
     "text": [
      "\n",
      "0: 512x640 1 animal, 310.2ms\n",
      "Speed: 5.1ms preprocess, 310.2ms inference, 1.3ms postprocess per image at shape (1, 3, 512, 640)\n"
     ]
    }
   ],
   "source": [
    "%timeit\n",
    "# --- Single image detection ---\n",
    "tgt_img_path = os.path.join(\"/mnt\", \"STORAGE\", \"csar\", \"pipo_images\", \"PUMA_CONCOLOR_2022\", \"I_00058a.JPG\")\n",
    "results = detection_model.single_image_detection(tgt_img_path)\n",
    "pw_utils.save_detection_images(results, os.path.join(\"..\",\"data\",\"test_output\"), overwrite=False)"
   ]
  },
  {
   "cell_type": "code",
   "execution_count": 13,
   "id": "706cd2ae-2c60-4e13-ba6a-15abbf96f000",
   "metadata": {},
   "outputs": [
    {
     "name": "stdout",
     "output_type": "stream",
     "text": [
      "/mnt/STORAGE/csar/pipo_images/PUMA_CONCOLOR_2022\n"
     ]
    },
    {
     "name": "stderr",
     "output_type": "stream",
     "text": [
      "  0%|                                                                                                                                                        | 0/2 [00:00<?, ?it/s]"
     ]
    },
    {
     "name": "stdout",
     "output_type": "stream",
     "text": [
      "\n",
      "0: 640x640 1 animal, 426.7ms\n",
      "1: 640x640 1 animal, 426.7ms\n",
      "2: 640x640 1 animal, 426.7ms\n",
      "3: 640x640 1 animal, 426.7ms\n",
      "4: 640x640 1 animal, 426.7ms\n",
      "5: 640x640 1 animal, 426.7ms\n",
      "6: 640x640 1 animal, 426.7ms\n",
      "7: 640x640 1 animal, 426.7ms\n",
      "8: 640x640 1 animal, 426.7ms\n",
      "9: 640x640 1 animal, 426.7ms\n",
      "10: 640x640 1 animal, 426.7ms\n",
      "11: 640x640 1 animal, 426.7ms\n",
      "12: 640x640 1 animal, 426.7ms\n",
      "13: 640x640 2 animals, 426.7ms\n",
      "14: 640x640 2 animals, 426.7ms\n",
      "15: 640x640 1 animal, 426.7ms\n",
      "Speed: 3.4ms preprocess, 426.7ms inference, 0.5ms postprocess per image at shape (16, 3, 640, 640)\n"
     ]
    },
    {
     "name": "stderr",
     "output_type": "stream",
     "text": [
      " 50%|████████████████████████████████████████████████████████████████████████                                                                        | 1/2 [00:17<00:17, 17.33s/it]"
     ]
    },
    {
     "name": "stdout",
     "output_type": "stream",
     "text": [
      "\n",
      "0: 512x640 1 animal, 328.3ms\n",
      "1: 512x640 2 animals, 328.3ms\n",
      "2: 512x640 1 animal, 328.3ms\n",
      "3: 512x640 1 animal, 328.3ms\n",
      "4: 512x640 1 animal, 328.3ms\n",
      "5: 512x640 1 animal, 328.3ms\n",
      "6: 512x640 1 animal, 328.3ms\n",
      "7: 512x640 1 animal, 328.3ms\n",
      "Speed: 2.7ms preprocess, 328.3ms inference, 1.1ms postprocess per image at shape (8, 3, 512, 640)\n"
     ]
    },
    {
     "name": "stderr",
     "output_type": "stream",
     "text": [
      "\n",
      "00%|████████████████████████████████████████████████████████████████████████████████████████████████████████████████████████████████████████████████| 2/2 [00:24<00:00, 12.44s/it]"
     ]
    }
   ],
   "source": [
    "%timeit\n",
    "# --- Batch image detection ---\n",
    "\n",
    "tgt_folder_path = os.path.join(\"/mnt\", \"STORAGE\", \"csar\", \"pipo_images\", \"PUMA_CONCOLOR_2022\")\n",
    "print(tgt_folder_path)\n",
    "results = detection_model.batch_image_detection(tgt_folder_path, batch_size=16)\n"
   ]
  },
  {
   "cell_type": "code",
   "execution_count": 14,
   "id": "40ed0dfd-f1d4-4802-a4c7-c685ac9a28bd",
   "metadata": {},
   "outputs": [],
   "source": [
    "pw_utils.save_detection_images(results, os.path.join(\"..\",\"data\",\"PUMA_CONCOLOR_2022\"), overwrite=True)"
   ]
  }
 ],
 "metadata": {
  "kernelspec": {
   "display_name": "Python pytorch_wildlife",
   "language": "python",
   "name": "pytorch_wildlife"
  },
  "language_info": {
   "codemirror_mode": {
    "name": "ipython",
    "version": 3
   },
   "file_extension": ".py",
   "mimetype": "text/x-python",
   "name": "python",
   "nbconvert_exporter": "python",
   "pygments_lexer": "ipython3",
   "version": "3.8.20"
  }
 },
 "nbformat": 4,
 "nbformat_minor": 5
}
