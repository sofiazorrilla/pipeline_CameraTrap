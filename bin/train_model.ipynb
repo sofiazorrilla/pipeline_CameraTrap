{
 "cells": [
  {
   "cell_type": "markdown",
   "id": "56809569-172d-4af3-b410-08dc15ba99fb",
   "metadata": {},
   "source": [
    "# Training of classification model\n",
    "\n",
    "El repositorio de CameraTraps tiene un [tutorial](https://github.com/microsoft/CameraTraps/blob/main/PW_FT_classification/README.md) para hacer el finetunning de los modelos para un grupo de imagenes de una región en particular.\n",
    "\n",
    "Los archivos para crear el ambiente se encuentran en `/bin/finetunning_files/PW_FT_classification`\n",
    "\n",
    "```\n",
    "pip install -r requirements.txt\n",
    "conda env create -f environment.yaml\n",
    "conda activate PT_Finetuning\n",
    "```\n",
    "\n",
    "La carpeta de imagenes debe estar configurada de la siguiente manera:\n",
    "```\n",
    "PT_FT_classification/\n",
    "│\n",
    "├── data/\n",
    "│   ├── imgs/            # All images stored here\n",
    "│   └── annotation_example.csv # Annotations file\n",
    "│\n",
    "└── configs/config.yaml            # Configuration file\n",
    "```\n",
    "\n",
    "El archivo de anotaciones debe contener las siguientes columnas:\n",
    "\n",
    "|path          |classification|label       |Photo_Time         |Location       |\n",
    "|--------------|--------------|------------|-------------------|---------------|\n",
    "|10050028_0.JPG|0             |Anteater    |2024-01-27 21:30:11|Amazon_Guaviare|\n",
    "|10050028_1.JPG|0             |Anteater    |2024-01-27 21:30:13|Amazon_Guaviare|\n",
    "|10050028_2.JPG|0             |Anteater    |2024-01-27 21:30:15|Amazon_Guaviare|\n",
    "|10050028_3.JPG|1             |Non-Anteater|2024-01-27 22:10:11|Amazon_Caqueta |\n",
    "|10050028_4.JPG|1             |Non-Anteater|2024-01-27 22:10:11|Amazon_Caqueta |\n",
    "|10050028_5.JPG|1             |Non-Anteater|2024-01-27 22:10:11|Amazon_Caqueta |\n",
    "|10050028_6.JPG|1             |Non-Anteater|2024-01-28 01:54:43|Amazon_Guainia |\n",
    "|10050028_7.JPG|1             |Non-Anteater|2024-01-28 01:55:13|Amazon_Guainia |\n",
    "|10050028_8.JPG|0             |Anteater    |2024-01-28 21:30:11|Amazon_Guainia |\n",
    "|10050028_9.JPG|0             |Anteater    |2024-01-28 21:30:11|Amazon_Guainia |\n",
    "\n",
    "\n",
    "`path`: relative path to image\n",
    "`classification`: number id of each class\n",
    "`label`: name of the class\n",
    "\n",
    "\n"
   ]
  },
  {
   "cell_type": "code",
   "execution_count": null,
   "id": "10f1bc5d-9eef-47d7-97e2-6ee30e5f075f",
   "metadata": {},
   "outputs": [],
   "source": []
  }
 ],
 "metadata": {
  "kernelspec": {
   "display_name": "Python pytorch_wildlife",
   "language": "python",
   "name": "pytorch_wildlife"
  },
  "language_info": {
   "codemirror_mode": {
    "name": "ipython",
    "version": 3
   },
   "file_extension": ".py",
   "mimetype": "text/x-python",
   "name": "python",
   "nbconvert_exporter": "python",
   "pygments_lexer": "ipython3",
   "version": "3.8.20"
  }
 },
 "nbformat": 4,
 "nbformat_minor": 5
}
